{
 "cells": [
  {
   "cell_type": "code",
   "execution_count": 1,
   "metadata": {},
   "outputs": [],
   "source": [
    "from sqlalchemy import create_engine, Column, Integer, String, DateTime\n",
    "from sqlalchemy.orm import declarative_base\n",
    "from sqlalchemy.schema import CreateTable\n",
    "from sqlalchemy.sql.expression import insert\n",
    "from faker import Faker\n",
    "import os"
   ]
  },
  {
   "cell_type": "code",
   "execution_count": 2,
   "metadata": {},
   "outputs": [],
   "source": [
    "RANDOM_SEED = 42\n",
    "SAVE_DIR = \"../flyway/migrations\""
   ]
  },
  {
   "cell_type": "code",
   "execution_count": 3,
   "metadata": {},
   "outputs": [],
   "source": [
    "# Create a declarative base class\n",
    "Base = declarative_base()\n",
    "\n",
    "# Create a Faker instance\n",
    "Faker.seed(RANDOM_SEED)\n",
    "fake = Faker()"
   ]
  },
  {
   "cell_type": "code",
   "execution_count": 4,
   "metadata": {},
   "outputs": [],
   "source": [
    "# Define the user class\n",
    "class User(Base):\n",
    "    __tablename__ = \"user\"\n",
    "    id = Column(Integer, primary_key=True)\n",
    "    name = Column(String(255), nullable=False)\n",
    "    surname = Column(String(255), nullable=False)\n",
    "    age = Column(Integer, nullable=False)\n",
    "    address = Column(String(255), nullable=False)\n",
    "    email = Column(String(255), nullable=False)\n",
    "\n",
    "    def __repr__(self):\n",
    "        return f\"User({self.name}, {self.surname}, {self.age}, {self.address}, {self.email})\"\n",
    "    \n",
    "    def to_dict(self):\n",
    "        user_dict = vars(self).copy()\n",
    "        user_dict.pop(\"_sa_instance_state\")\n",
    "        return user_dict"
   ]
  },
  {
   "cell_type": "code",
   "execution_count": 5,
   "metadata": {},
   "outputs": [],
   "source": [
    "# Create a function to generate a random user\n",
    "def generate_user():\n",
    "    name = fake.first_name()\n",
    "    surname = fake.last_name()\n",
    "    age = fake.random_int(min=18, max=80)\n",
    "    address = fake.address()\n",
    "    email = fake.email()\n",
    "    return User(name=name, surname=surname, age=age, address=address, email=email)"
   ]
  },
  {
   "cell_type": "code",
   "execution_count": 6,
   "metadata": {},
   "outputs": [],
   "source": [
    "# Create a function to save the sql code to a file\n",
    "def save_sql_file(sql, filename, save_dir=\"./sql\"):\n",
    "    os.makedirs(save_dir, exist_ok=True)\n",
    "    with open(os.path.join(save_dir, filename), \"w\") as f:\n",
    "        f.write(sql)"
   ]
  },
  {
   "cell_type": "code",
   "execution_count": 7,
   "metadata": {},
   "outputs": [],
   "source": [
    "# Create a list of 5 users\n",
    "users = [generate_user() for _ in range(5)]"
   ]
  },
  {
   "cell_type": "code",
   "execution_count": 8,
   "metadata": {},
   "outputs": [],
   "source": [
    "# Create an engine\n",
    "engine = create_engine(\"postgresql:///:memory:\")"
   ]
  },
  {
   "cell_type": "code",
   "execution_count": 9,
   "metadata": {},
   "outputs": [
    {
     "name": "stdout",
     "output_type": "stream",
     "text": [
      "\n",
      "CREATE TABLE \"user\" (\n",
      "\tid SERIAL NOT NULL, \n",
      "\tname VARCHAR(255) NOT NULL, \n",
      "\tsurname VARCHAR(255) NOT NULL, \n",
      "\tage INTEGER NOT NULL, \n",
      "\taddress VARCHAR(255) NOT NULL, \n",
      "\temail VARCHAR(255) NOT NULL, \n",
      "\tPRIMARY KEY (id)\n",
      ")\n",
      "\n",
      "\n"
     ]
    }
   ],
   "source": [
    "# Create the sql code for creating the user table\n",
    "create_table = str(CreateTable(User.__table__).compile(engine))\n",
    "print(create_table)"
   ]
  },
  {
   "cell_type": "code",
   "execution_count": 10,
   "metadata": {},
   "outputs": [
    {
     "name": "stdout",
     "output_type": "stream",
     "text": [
      "INSERT INTO \"user\" (name, surname, age, address, email) VALUES ('Danielle', 'Johnson', 35, '181 Johnson Course\n",
      "East William, AK 74064', 'jennifermiles@example.com'), ('Jeffrey', 'Lawrence', 69, '654 Jason Track\n",
      "Curtisfurt, CT 47553', 'cassandra07@example.net'), ('David', 'Nielsen', 23, '310 Kendra Common Apt. 164\n",
      "Reidstad, GA 49021', 'jason41@example.net'), ('Cynthia', 'Ferguson', 33, '8350 Lydia Valley Suite 641\n",
      "New Nancy, MD 28370', 'pfoster@example.com'), ('Douglas', 'Taylor', 65, '969 Cox Dam Suite 101\n",
      "Lake Ernest, TX 55834', 'cruzcaitlin@example.com')\n"
     ]
    }
   ],
   "source": [
    "# Create the sql code for inserting the users into the table\n",
    "insert_stmt = insert(User.__table__)\\\n",
    "    .values([u.to_dict() for u in users])\\\n",
    "    .compile(compile_kwargs={\"literal_binds\": True})\n",
    "insert_users = str(insert_stmt)\n",
    "print(insert_users)"
   ]
  },
  {
   "cell_type": "code",
   "execution_count": 11,
   "metadata": {},
   "outputs": [
    {
     "ename": "FileNotFoundError",
     "evalue": "[Errno 2] No such file or directory: '../flyway/migrations'",
     "output_type": "error",
     "traceback": [
      "\u001b[0;31m---------------------------------------------------------------------------\u001b[0m",
      "\u001b[0;31mFileNotFoundError\u001b[0m                         Traceback (most recent call last)",
      "\u001b[1;32m/Users/ruan/Documents/github/pycon23-synth-data/notebooks/faker-sql-test.ipynb Cell 11\u001b[0m line \u001b[0;36m2\n\u001b[1;32m      <a href='vscode-notebook-cell:/Users/ruan/Documents/github/pycon23-synth-data/notebooks/faker-sql-test.ipynb#X26sZmlsZQ%3D%3D?line=0'>1</a>\u001b[0m \u001b[39m# Save to sql files\u001b[39;00m\n\u001b[0;32m----> <a href='vscode-notebook-cell:/Users/ruan/Documents/github/pycon23-synth-data/notebooks/faker-sql-test.ipynb#X26sZmlsZQ%3D%3D?line=1'>2</a>\u001b[0m save_sql_file(create_table, \u001b[39m\"\u001b[39;49m\u001b[39mV1_01__create_users_table.sql\u001b[39;49m\u001b[39m\"\u001b[39;49m, SAVE_DIR)\n\u001b[1;32m      <a href='vscode-notebook-cell:/Users/ruan/Documents/github/pycon23-synth-data/notebooks/faker-sql-test.ipynb#X26sZmlsZQ%3D%3D?line=2'>3</a>\u001b[0m save_sql_file(insert_users, \u001b[39m\"\u001b[39m\u001b[39mV1_02__insert_users.sql\u001b[39m\u001b[39m\"\u001b[39m, SAVE_DIR)\n",
      "\u001b[1;32m/Users/ruan/Documents/github/pycon23-synth-data/notebooks/faker-sql-test.ipynb Cell 11\u001b[0m line \u001b[0;36m4\n\u001b[1;32m      <a href='vscode-notebook-cell:/Users/ruan/Documents/github/pycon23-synth-data/notebooks/faker-sql-test.ipynb#X26sZmlsZQ%3D%3D?line=1'>2</a>\u001b[0m \u001b[39mdef\u001b[39;00m \u001b[39msave_sql_file\u001b[39m(sql, filename, save_dir\u001b[39m=\u001b[39m\u001b[39m\"\u001b[39m\u001b[39m./sql\u001b[39m\u001b[39m\"\u001b[39m):\n\u001b[1;32m      <a href='vscode-notebook-cell:/Users/ruan/Documents/github/pycon23-synth-data/notebooks/faker-sql-test.ipynb#X26sZmlsZQ%3D%3D?line=2'>3</a>\u001b[0m     \u001b[39mif\u001b[39;00m \u001b[39mnot\u001b[39;00m os\u001b[39m.\u001b[39mpath\u001b[39m.\u001b[39mexists(save_dir):\n\u001b[0;32m----> <a href='vscode-notebook-cell:/Users/ruan/Documents/github/pycon23-synth-data/notebooks/faker-sql-test.ipynb#X26sZmlsZQ%3D%3D?line=3'>4</a>\u001b[0m         os\u001b[39m.\u001b[39;49mmkdir(save_dir)\n\u001b[1;32m      <a href='vscode-notebook-cell:/Users/ruan/Documents/github/pycon23-synth-data/notebooks/faker-sql-test.ipynb#X26sZmlsZQ%3D%3D?line=5'>6</a>\u001b[0m     \u001b[39m# Save the sql code to a file with the given filename in the sql folder\u001b[39;00m\n\u001b[1;32m      <a href='vscode-notebook-cell:/Users/ruan/Documents/github/pycon23-synth-data/notebooks/faker-sql-test.ipynb#X26sZmlsZQ%3D%3D?line=6'>7</a>\u001b[0m     \u001b[39mwith\u001b[39;00m \u001b[39mopen\u001b[39m(os\u001b[39m.\u001b[39mpath\u001b[39m.\u001b[39mjoin(save_dir, filename), \u001b[39m\"\u001b[39m\u001b[39mw\u001b[39m\u001b[39m\"\u001b[39m) \u001b[39mas\u001b[39;00m f:\n",
      "\u001b[0;31mFileNotFoundError\u001b[0m: [Errno 2] No such file or directory: '../flyway/migrations'"
     ]
    }
   ],
   "source": [
    "# Save to sql files\n",
    "save_sql_file(create_table, \"V1_01__create_users_table.sql\", SAVE_DIR)\n",
    "save_sql_file(insert_users, \"V1_02__insert_users.sql\", SAVE_DIR)"
   ]
  },
  {
   "cell_type": "code",
   "execution_count": null,
   "metadata": {},
   "outputs": [],
   "source": []
  }
 ],
 "metadata": {
  "kernelspec": {
   "display_name": "pycon23-r9lnXa3c-py3.11",
   "language": "python",
   "name": "python3"
  },
  "language_info": {
   "codemirror_mode": {
    "name": "ipython",
    "version": 3
   },
   "file_extension": ".py",
   "mimetype": "text/x-python",
   "name": "python",
   "nbconvert_exporter": "python",
   "pygments_lexer": "ipython3",
   "version": "3.11.2"
  },
  "orig_nbformat": 4
 },
 "nbformat": 4,
 "nbformat_minor": 2
}
