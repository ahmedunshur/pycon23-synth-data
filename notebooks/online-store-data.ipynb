{
 "cells": [
  {
   "cell_type": "code",
   "execution_count": 1,
   "metadata": {},
   "outputs": [],
   "source": [
    "from sqlalchemy import create_engine, Column, Integer, String, DateTime, Numeric, ForeignKey\n",
    "from sqlalchemy.orm import declarative_base\n",
    "from sqlalchemy.schema import CreateTable\n",
    "from sqlalchemy.sql.expression import insert\n",
    "from faker import Faker\n",
    "import os\n",
    "import random\n",
    "import datetime"
   ]
  },
  {
   "cell_type": "code",
   "execution_count": 2,
   "metadata": {},
   "outputs": [],
   "source": [
    "RANDOM_SEED = 42\n",
    "SAVE_DIR = \"../flyway/migrations\"\n",
    "\n",
    "NB_CUSTOMERS = 500\n",
    "NB_PRODUCTS = 50\n",
    "NB_DEVICES = 500\n",
    "NB_TRANSACTIONS = 2000\n",
    "START_DATE = datetime.date(2018, 1, 1)\n",
    "END_DATE = datetime.date(2023, 6, 30)"
   ]
  },
  {
   "cell_type": "code",
   "execution_count": 3,
   "metadata": {},
   "outputs": [],
   "source": [
    "# Create a declarative base class\n",
    "Base = declarative_base()\n",
    "\n",
    "# Create a Faker instance\n",
    "Faker.seed(RANDOM_SEED)\n",
    "fake = Faker()\n",
    "\n",
    "# Set random seed\n",
    "random.seed(RANDOM_SEED)"
   ]
  },
  {
   "cell_type": "markdown",
   "metadata": {},
   "source": [
    "## Define schemas"
   ]
  },
  {
   "cell_type": "code",
   "execution_count": 4,
   "metadata": {},
   "outputs": [],
   "source": [
    "class Customer(Base):\n",
    "    __tablename__ = \"customers\"\n",
    "    id = Column(Integer, primary_key=True)\n",
    "    name = Column(String(100), nullable=False)\n",
    "    email = Column(String(100), nullable=False)\n",
    "    phone = Column(String(25), nullable=False)\n",
    "    address = Column(String(250), nullable=False)\n",
    "    city = Column(String(100), nullable=False)\n",
    "    country = Column(String(100), nullable=False)\n",
    "\n",
    "    def to_dict(self):\n",
    "        user_dict = vars(self).copy()\n",
    "        user_dict.pop(\"_sa_instance_state\")\n",
    "        return user_dict"
   ]
  },
  {
   "cell_type": "code",
   "execution_count": 5,
   "metadata": {},
   "outputs": [],
   "source": [
    "class Product(Base):\n",
    "    __tablename__ = \"products\"\n",
    "    id = Column(Integer, primary_key=True)\n",
    "    name = Column(String(50), nullable=False)\n",
    "    description = Column(String(200), nullable=False)\n",
    "    category = Column(String(50), nullable=False)\n",
    "    price = Column(Numeric(10, 2), nullable=False)\n",
    "\n",
    "    def to_dict(self):\n",
    "        user_dict = vars(self).copy()\n",
    "        user_dict.pop(\"_sa_instance_state\")\n",
    "        return user_dict"
   ]
  },
  {
   "cell_type": "code",
   "execution_count": 6,
   "metadata": {},
   "outputs": [],
   "source": [
    "class Device(Base):\n",
    "    __tablename__ = \"devices\"\n",
    "    id = Column(Integer, primary_key=True)\n",
    "    platform = Column(String(250), nullable=False)\n",
    "    ipv4 = Column(String(50), nullable=False)\n",
    "    macaddress = Column(String(50), nullable=False)\n",
    "\n",
    "    def to_dict(self):\n",
    "        user_dict = vars(self).copy()\n",
    "        user_dict.pop(\"_sa_instance_state\")\n",
    "        return user_dict"
   ]
  },
  {
   "cell_type": "code",
   "execution_count": 7,
   "metadata": {},
   "outputs": [],
   "source": [
    "class Transaction(Base):\n",
    "    __tablename__ = \"transactions\"\n",
    "    id = Column(Integer, primary_key=True)\n",
    "    date_time = Column(DateTime, nullable=False)\n",
    "    customer_id = Column(Integer, ForeignKey(\"customers.id\"))\n",
    "    product_id = Column(Integer, ForeignKey(\"products.id\"))\n",
    "    quantity = Column(Integer, nullable=False)\n",
    "    device_id = Column(Integer, ForeignKey(\"devices.id\"))\n",
    "    payment_method = Column(String(50), nullable=False)\n",
    "\n",
    "    def to_dict(self):\n",
    "        user_dict = vars(self).copy()\n",
    "        user_dict.pop(\"_sa_instance_state\")\n",
    "        return user_dict"
   ]
  },
  {
   "cell_type": "markdown",
   "metadata": {},
   "source": [
    "## Instance generators"
   ]
  },
  {
   "cell_type": "code",
   "execution_count": 8,
   "metadata": {},
   "outputs": [],
   "source": [
    "def generate_customer(id: int):\n",
    "    customer = Customer(\n",
    "        id=id,\n",
    "        name=fake.name(),\n",
    "        email=fake.email(),\n",
    "        phone=fake.phone_number(),\n",
    "        address=fake.street_address(),\n",
    "        city=fake.city(),\n",
    "        country=fake.country()\n",
    "    )\n",
    "    return customer"
   ]
  },
  {
   "cell_type": "code",
   "execution_count": 9,
   "metadata": {},
   "outputs": [],
   "source": [
    "def generate_product(id: int):\n",
    "    product = Product(\n",
    "        id=id,\n",
    "        name=fake.word(),\n",
    "        description=fake.sentence(nb_words=10, ext_word_list=[\"best\", \"worst\", \"the\", \"this\", \"product\", \"is\", \"favorite\", \"ever\"]),\n",
    "        category=fake.random_element(elements=(\"Electronics\", \"Fashion\", \"Books\", \"Garden\", \"Games\", \"Sports\", \"Food\")),\n",
    "        price=fake.pydecimal(left_digits=3, right_digits=2, positive=True)\n",
    "    )\n",
    "    return product"
   ]
  },
  {
   "cell_type": "code",
   "execution_count": 10,
   "metadata": {},
   "outputs": [],
   "source": [
    "def generate_device(id: int):\n",
    "    device = Device(\n",
    "        id=id,\n",
    "        platform=fake.user_agent(),\n",
    "        ipv4=fake.ipv4(),\n",
    "        macaddress=fake.mac_address()\n",
    "    )\n",
    "    return device"
   ]
  },
  {
   "cell_type": "code",
   "execution_count": 11,
   "metadata": {},
   "outputs": [],
   "source": [
    "def generate_transaction(id: int, customers: list[Customer], products: list[Product], devices:list[Device]):\n",
    "    tr = Transaction(\n",
    "        id=id,\n",
    "        date_time=fake.date_between(start_date=START_DATE, end_date=END_DATE),\n",
    "        customer_id=random.choice(customers).id,\n",
    "        product_id=random.choice(products).id,\n",
    "        quantity=fake.random_int(min=1, max=20),\n",
    "        device_id=random.choice(devices).id,\n",
    "        payment_method=fake.random_element(elements=(\"Credit Card\", \"EFT\", \"Bitcoin\", \"Reward Points\"))\n",
    "    )\n",
    "    return tr"
   ]
  },
  {
   "cell_type": "markdown",
   "metadata": {},
   "source": [
    "## Create data"
   ]
  },
  {
   "cell_type": "code",
   "execution_count": 12,
   "metadata": {},
   "outputs": [
    {
     "name": "stdout",
     "output_type": "stream",
     "text": [
      "CPU times: user 200 ms, sys: 2.61 ms, total: 202 ms\n",
      "Wall time: 204 ms\n"
     ]
    }
   ],
   "source": [
    "%%time\n",
    "customers = [generate_customer(i) for i in range(NB_CUSTOMERS)]\n",
    "products = [generate_product(i) for i in range(NB_PRODUCTS)]\n",
    "devices = [generate_device(i) for i in range(NB_DEVICES)]\n",
    "transactions = [generate_transaction(i, customers, products, devices) for i in range(NB_TRANSACTIONS)]"
   ]
  },
  {
   "cell_type": "markdown",
   "metadata": {},
   "source": [
    "## Save data to SQL create scripts"
   ]
  },
  {
   "cell_type": "code",
   "execution_count": 13,
   "metadata": {},
   "outputs": [],
   "source": [
    "# Create a function to save the sql code to a file\n",
    "def save_sql_file(sql, filename, save_dir=\"./sql\"):\n",
    "    os.makedirs(save_dir, exist_ok=True)\n",
    "    with open(os.path.join(save_dir, filename), \"w\") as f:\n",
    "        f.write(sql)"
   ]
  },
  {
   "cell_type": "code",
   "execution_count": 14,
   "metadata": {},
   "outputs": [],
   "source": [
    "# Create an engine\n",
    "engine = create_engine(\"postgresql:///:memory:\")"
   ]
  },
  {
   "cell_type": "code",
   "execution_count": 15,
   "metadata": {},
   "outputs": [],
   "source": [
    "# Create dictionary that contains all data\n",
    "data_dict = {\n",
    "    \"customers\": {\n",
    "        \"class\": Customer,\n",
    "        \"records\": customers\n",
    "    },\n",
    "    \"products\": {\n",
    "        \"class\": Product,\n",
    "        \"records\": products\n",
    "    },\n",
    "    \"devices\": {\n",
    "        \"class\": Device,\n",
    "        \"records\": devices\n",
    "    },\n",
    "    \"transactions\": {\n",
    "        \"class\": Transaction,\n",
    "        \"records\": transactions\n",
    "    }\n",
    "}"
   ]
  },
  {
   "cell_type": "code",
   "execution_count": 16,
   "metadata": {},
   "outputs": [
    {
     "name": "stdout",
     "output_type": "stream",
     "text": [
      "Table: customers\n",
      "\tGenerating create script...\n",
      "\tGenerating insert script...\n",
      "Table: products\n",
      "\tGenerating create script...\n",
      "\tGenerating insert script...\n",
      "Table: devices\n",
      "\tGenerating create script...\n",
      "\tGenerating insert script...\n",
      "Table: transactions\n",
      "\tGenerating create script...\n",
      "\tGenerating insert script...\n"
     ]
    }
   ],
   "source": [
    "# Create the sql scripts\n",
    "script_num = 1\n",
    "for table, details in data_dict.items():\n",
    "    cls = details[\"class\"]\n",
    "    table_name = cls.__tablename__\n",
    "    records = details[\"records\"]\n",
    "\n",
    "    print(f\"Table: {table_name}\")\n",
    "    print(\"\\tGenerating create script...\")\n",
    "    create_table_script = str(CreateTable(cls.__table__).compile(engine))\n",
    "    save_sql_file(create_table_script, f\"V1_{script_num}__create_{table_name}_table.sql\", SAVE_DIR)\n",
    "    script_num += 1\n",
    "\n",
    "    print(\"\\tGenerating insert script...\")\n",
    "    insert_stmt = insert(cls.__table__)\\\n",
    "        .values([r.to_dict() for r in records])\\\n",
    "        .compile(compile_kwargs={\"literal_binds\": True})\n",
    "    insert_stmt = str(insert_stmt)\n",
    "    save_sql_file(insert_stmt, f\"V1_{script_num}__insert_{table_name}_records.sql\", SAVE_DIR)\n",
    "    script_num += 1\n"
   ]
  },
  {
   "cell_type": "code",
   "execution_count": null,
   "metadata": {},
   "outputs": [],
   "source": []
  }
 ],
 "metadata": {
  "kernelspec": {
   "display_name": "pycon23-r9lnXa3c-py3.11",
   "language": "python",
   "name": "python3"
  },
  "language_info": {
   "codemirror_mode": {
    "name": "ipython",
    "version": 3
   },
   "file_extension": ".py",
   "mimetype": "text/x-python",
   "name": "python",
   "nbconvert_exporter": "python",
   "pygments_lexer": "ipython3",
   "version": "3.11.2"
  },
  "orig_nbformat": 4
 },
 "nbformat": 4,
 "nbformat_minor": 2
}
